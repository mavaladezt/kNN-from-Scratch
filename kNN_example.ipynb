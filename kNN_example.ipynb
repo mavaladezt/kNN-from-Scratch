{
 "cells": [
  {
   "cell_type": "markdown",
   "metadata": {},
   "source": [
    "## Solving k-Nearest Neighbors with Math<br>\n",
    "\n",
    "__k-Nearest Neighbors is a very commonly used algorithm for classification, regression and for imputing missing values__. It works great when you have large amount of classes and a few samples per class.<br>\n",
    "<br>\n",
    "__kNN in one sentence__: is an algorithm that classifies or calculates a regression based on the items in the training set that are 'closer' to each of the testing points.<br>\n",
    "<br>\n",
    "k Parameter - Size of Neighborhood<br>\n",
    " - k represents the amount of neighbors to compare data with. That is why it usually k is an odd number.<br>\n",
    " - the bigger the k, the less 'defined' or more smooth are the neighborhoods.<br>\n",
    "<br>\n",
    "\n",
    "__Distance__ is a key factor in order to determine who is the closest. Distance impacts the size and characteristics of the neighborhoods.  The most commonly used is Euclidean distance since it gives the closest distance between 2 points.<br>\n",
    "<br>\n",
    "Most Common Distances<br>\n",
    " - Euclidean: the shortest distance between to points that might not be the best option when features are normalized. Typically used in face recognition.<br>\n",
    " - Taxicab or Manhattan: is the sum of the absolute differences of the Cartesian coordinates of 2 points. It works the same way as when a car needs to move around 'blocks' to get to the destination.<br>\n",
    " - Minkowski: is a mix of both Euclidean and Manhattan.<br>\n",
    "\n",
    "<br>\n",
    "The amount of features impacts kNN significantly because the more points we have, the more 'unique' each neighborhood becomes. It also affects speed because we need to measure each distance first in order to determine who are the closest k neighbors.<br)"
   ]
  },
  {
   "cell_type": "markdown",
   "metadata": {},
   "source": [
    "### The kNN Algorithm<br>\n",
    "\n",
    "__1- Divide dataset in training/testing sets.__ Dataset has to be divided in 2, usually 80-20 or 70-30%. Each dataset has to be divided in features (x) and labels (y).<br>\n",
    "__2- Create a matrix with all the distances.__ The size of the matrix is i*j where i=rows in training set and j=rows in testing set.<br>\n",
    "__3- Sort the matrix by columns.__ By sorting each column we can determine which points (rows in the training set) are closer to the testing set points (represented in columns).<br>\n",
    "__4- Get the indices of the top k neighbors.__ Find the points in the training set that are closer to the testing set points.<br>\n",
    "__5- Get the label that repeats the most in the top k neighbors.__ Mathematically is the mode of the labels of the top k neighbors.<br>\n",
    "__6- Create a new array with the projected label of the testing set.__ The size of the array is the same size as the y of the testing set.<br>\n",
    "__7- Calculate accuracy of the projected labels.__ Evaluate the differences between the projected label of y in the testing set with the actual y of the testing set. If accuracy is low, we can change it by modifying k.<br>\n",
    "__8- Implement algorithm.__ Model is ready to be deployed. <br>"
   ]
  },
  {
   "cell_type": "markdown",
   "metadata": {},
   "source": [
    "### The following example can be used to solve 'any' type of kNN problem without sklearn, specially if you want to change some source code to adapt it to your particular needs.<br>\n",
    "\n",
    "I am going to be using the 'famous' Iris Flower Dataset that you can download anywhere. If you don't know this dataset you can get more information here: https://en.wikipedia.org/wiki/Iris_flower_data_set"
   ]
  },
  {
   "cell_type": "code",
   "execution_count": 1,
   "metadata": {},
   "outputs": [],
   "source": [
    "import pandas as pd\n",
    "import numpy as np\n",
    "from sklearn.model_selection import train_test_split"
   ]
  },
  {
   "cell_type": "code",
   "execution_count": 2,
   "metadata": {},
   "outputs": [
    {
     "data": {
      "text/html": [
       "<div>\n",
       "<style scoped>\n",
       "    .dataframe tbody tr th:only-of-type {\n",
       "        vertical-align: middle;\n",
       "    }\n",
       "\n",
       "    .dataframe tbody tr th {\n",
       "        vertical-align: top;\n",
       "    }\n",
       "\n",
       "    .dataframe thead th {\n",
       "        text-align: right;\n",
       "    }\n",
       "</style>\n",
       "<table border=\"1\" class=\"dataframe\">\n",
       "  <thead>\n",
       "    <tr style=\"text-align: right;\">\n",
       "      <th></th>\n",
       "      <th>0</th>\n",
       "      <th>1</th>\n",
       "      <th>2</th>\n",
       "      <th>3</th>\n",
       "      <th>4</th>\n",
       "    </tr>\n",
       "  </thead>\n",
       "  <tbody>\n",
       "    <tr>\n",
       "      <th>0</th>\n",
       "      <td>5.1</td>\n",
       "      <td>3.5</td>\n",
       "      <td>1.4</td>\n",
       "      <td>0.2</td>\n",
       "      <td>Iris-setosa</td>\n",
       "    </tr>\n",
       "    <tr>\n",
       "      <th>1</th>\n",
       "      <td>4.9</td>\n",
       "      <td>3.0</td>\n",
       "      <td>1.4</td>\n",
       "      <td>0.2</td>\n",
       "      <td>Iris-setosa</td>\n",
       "    </tr>\n",
       "    <tr>\n",
       "      <th>2</th>\n",
       "      <td>4.7</td>\n",
       "      <td>3.2</td>\n",
       "      <td>1.3</td>\n",
       "      <td>0.2</td>\n",
       "      <td>Iris-setosa</td>\n",
       "    </tr>\n",
       "    <tr>\n",
       "      <th>3</th>\n",
       "      <td>4.6</td>\n",
       "      <td>3.1</td>\n",
       "      <td>1.5</td>\n",
       "      <td>0.2</td>\n",
       "      <td>Iris-setosa</td>\n",
       "    </tr>\n",
       "    <tr>\n",
       "      <th>4</th>\n",
       "      <td>5.0</td>\n",
       "      <td>3.6</td>\n",
       "      <td>1.4</td>\n",
       "      <td>0.2</td>\n",
       "      <td>Iris-setosa</td>\n",
       "    </tr>\n",
       "  </tbody>\n",
       "</table>\n",
       "</div>"
      ],
      "text/plain": [
       "     0    1    2    3            4\n",
       "0  5.1  3.5  1.4  0.2  Iris-setosa\n",
       "1  4.9  3.0  1.4  0.2  Iris-setosa\n",
       "2  4.7  3.2  1.3  0.2  Iris-setosa\n",
       "3  4.6  3.1  1.5  0.2  Iris-setosa\n",
       "4  5.0  3.6  1.4  0.2  Iris-setosa"
      ]
     },
     "execution_count": 2,
     "metadata": {},
     "output_type": "execute_result"
    }
   ],
   "source": [
    "#Loading File\n",
    "df = pd.read_csv('iris.data',header = None)\n",
    "df.head()"
   ]
  },
  {
   "cell_type": "code",
   "execution_count": 3,
   "metadata": {},
   "outputs": [
    {
     "name": "stdout",
     "output_type": "stream",
     "text": [
      "Dataset Shapes:\n",
      "xTrain --> (105, 4)\n",
      "yTrain --> (105,)\n",
      "xTest --> (45, 4)\n",
      "yTest --> (45,)\n",
      "\n",
      "xTrain: Top rows\n",
      " [[6.  3.4 4.5 1.6]\n",
      " [6.3 2.9 5.6 1.8]\n",
      " [6.  3.  4.8 1.8]\n",
      " [5.7 2.8 4.5 1.3]\n",
      " [7.7 3.  6.1 2.3]]\n",
      "\n",
      "yTrain: Top rows\n",
      " ['Iris-versicolor' 'Iris-virginica' 'Iris-virginica' 'Iris-versicolor'\n",
      " 'Iris-virginica']\n"
     ]
    }
   ],
   "source": [
    "#Use Train-Test-Split to make training and testing datasets/arrays\n",
    "xTrain, xTest = train_test_split(df, test_size=0.3)\n",
    "yTrain = np.array(xTrain.iloc[:,4])\n",
    "xTrain = np.array(xTrain.iloc[:,0:4])\n",
    "yTest = np.array(xTest.iloc[:,4])\n",
    "xTest = np.array(xTest.iloc[:,0:4])\n",
    "\n",
    "#Characteristics of the arrays\n",
    "print('Dataset Shapes:')\n",
    "print('xTrain -->', xTrain.shape)\n",
    "print('yTrain -->', yTrain.shape)\n",
    "print('xTest -->', xTest.shape)\n",
    "print('yTest -->', yTest.shape)\n",
    "print('\\nxTrain: Top rows\\n',xTrain[0:5,:])\n",
    "print('\\nyTrain: Top rows\\n',yTrain[0:5])"
   ]
  },
  {
   "cell_type": "markdown",
   "metadata": {},
   "source": [
    "#### Distances\n",
    "Euclidean distance is calculated same way as when calculating the hypotenuse in a triangle. Euclidean distance follows the Pythagorean theorem. We have coordinateS p=(p1,p2) and q=(q1,q2), so the Euclidean distance is the square root of the difference of each point elevated to the square:<br>\n",
    "\n",
    "__In its general form:__<br>\n",
    "ED = SQRT((qi-pi)^2)<br>\n",
    "<br>\n",
    "__In its matrix form:__<br>\n",
    "ED = SQRT((qi-pi) . transpose(qi-pi))<br>\n",
    "\n",
    "The dot product of (qi-pi) and (qi-pi) transposed is the matrix equivalent of a function elevated to the square.<br>\n",
    "\n",
    "__With all terms:__<br>\n",
    "pi.T(pi) + qi.T(qi) - 2(qi.T(pi) <br>\n",
    "\n",
    "Summary: we will be create 1 matrix for the first term, another matrix for the 2nd term and a 3rd matrix with the final term and then add the first 2 and substract 2 times the 3rd matrix."
   ]
  },
  {
   "cell_type": "code",
   "execution_count": 4,
   "metadata": {},
   "outputs": [],
   "source": [
    "#Importing knn.py functions\n",
    "#the knn.py file has to be in the same directory than the file\n",
    "from knn import knn_predictions\n",
    "from knn import knn_accuracy"
   ]
  },
  {
   "cell_type": "code",
   "execution_count": 5,
   "metadata": {},
   "outputs": [
    {
     "name": "stdout",
     "output_type": "stream",
     "text": [
      "Size of Predictions Array:\n",
      " (45,)\n"
     ]
    }
   ],
   "source": [
    "#The knn_predictions function will call knn_distances and bring back prediction based\n",
    "# on the distance and the size of k.\n",
    "predictions = knn_predictions(xTrain, yTrain, xTest,3)\n",
    "print('Size of Predictions Array:\\n', predictions.shape)\n",
    "#print('\\nPredictions Array:\\n',knn_predictions(xTrain,yTrain,xTest,3))"
   ]
  },
  {
   "cell_type": "markdown",
   "metadata": {},
   "source": [
    "Now that we have the predicted array, we need to calculate its accuracy:"
   ]
  },
  {
   "cell_type": "code",
   "execution_count": 6,
   "metadata": {},
   "outputs": [
    {
     "name": "stdout",
     "output_type": "stream",
     "text": [
      "Accuracy: 95.56 %\n"
     ]
    }
   ],
   "source": [
    "#Will call knn_accuracy, which was imported from knn.py file\n",
    "print('Accuracy:',knn_accuracy(predictions,yTest),'%')"
   ]
  },
  {
   "cell_type": "markdown",
   "metadata": {},
   "source": [
    "### Validating Solution and the Best k-Value"
   ]
  },
  {
   "cell_type": "code",
   "execution_count": 7,
   "metadata": {},
   "outputs": [],
   "source": [
    "#from sklearn.neighbors import KNeighborsClassifier\n",
    "from sklearn.metrics import accuracy_score\n",
    "from sklearn import metrics\n",
    "import matplotlib.pyplot as plt "
   ]
  },
  {
   "cell_type": "code",
   "execution_count": 8,
   "metadata": {},
   "outputs": [
    {
     "name": "stdout",
     "output_type": "stream",
     "text": [
      "The best accuracy was: 97.78 % with k= 7\n"
     ]
    }
   ],
   "source": [
    "#will first check which is the best k\n",
    "Ks = 15\n",
    "mean_acc = np.zeros((Ks-1))\n",
    "std_acc = np.zeros((Ks-1))\n",
    "#ConfustionMx = [];\n",
    "for n in range(1,Ks):\n",
    "    #Train Model and Predict\n",
    "    #neigh = KNeighborsClassifier(n_neighbors = n).fit(xTrain,yTrain)\n",
    "    #yhat=neigh.predict(xTest)\n",
    "    yhat = knn_predictions(xTrain,yTrain,xTest,n)\n",
    "    mean_acc[n-1] = metrics.accuracy_score(yTest, yhat)\n",
    "    std_acc[n-1] = np.std(yhat==yTest)/np.sqrt(yhat.shape[0])\n",
    "\n",
    "print( \"The best accuracy was:\", np.round(mean_acc.max()*100,2), \"% with k=\", mean_acc.argmax()+1) "
   ]
  },
  {
   "cell_type": "code",
   "execution_count": 9,
   "metadata": {},
   "outputs": [
    {
     "data": {
      "image/png": "[encoded data removed]",
      "text/plain": [
       "<Figure size 432x288 with 1 Axes>"
      ]
     },
     "metadata": {
      "needs_background": "light"
     },
     "output_type": "display_data"
    }
   ],
   "source": [
    "plt.plot(range(1,Ks),mean_acc,'g')\n",
    "plt.fill_between(range(1,Ks),mean_acc - 1 * std_acc,mean_acc + 1 * std_acc, alpha=0.05)\n",
    "plt.legend(('Accuracy ', '+/- 3xstd'))\n",
    "plt.ylabel('Accuracy ')\n",
    "plt.xlabel('Number of Neighbors (k)')\n",
    "plt.tight_layout()\n",
    "plt.show()"
   ]
  },
  {
   "cell_type": "markdown",
   "metadata": {},
   "source": [
    "### Summary and Conclusions\n",
    " - knn works really well when a few features can really differentiate each neighborhood. Too many features, specially the ones that add noise, make kNN to have poor results and will slow down the calculations. \n",
    " - You can use this math model to generate and evaluate any knn model.\n",
    " - Works great when you have large amount of classes and a few samples per class."
   ]
  }
 ],
 "metadata": {
  "kernelspec": {
   "display_name": "Python 3",
   "language": "python",
   "name": "python3"
  },
  "language_info": {
   "codemirror_mode": {
    "name": "ipython",
    "version": 3
   },
   "file_extension": ".py",
   "mimetype": "text/x-python",
   "name": "python",
   "nbconvert_exporter": "python",
   "pygments_lexer": "ipython3",
   "version": "3.7.5"
  }
 },
 "nbformat": 4,
 "nbformat_minor": 2
}
