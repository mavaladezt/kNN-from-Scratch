{
 "cells": [
  {
   "cell_type": "markdown",
   "metadata": {},
   "source": [
    "## Solving k-Nearest Neighbors with Math<br>\n",
    "\n",
    "__k-Nearest Neighbors is a very commonly used algorithm for classification__. It works great when you have large amount of classes and a few samples per class, this is why it is very commonly used in __face recognition__.<br>\n",
    "<br>\n",
    "__kNN in one sentence__: is an algorithm that classifies and assigns labels based on the closest k-neighbors.<br>\n",
    "<br>\n",
    "k Parameter - Size of Neighborhood<br>\n",
    " - k represents the amount of neighbors to compare data with. That is why it usually k is an odd number.<br>\n",
    " - the bigger the k, the less 'defined' or more smooth are the areas of classification.<br>\n",
    "<br>\n",
    "\n",
    "__Distance__ is a key factor in order to determine who is the closest. Distance impacts the size and characteristics of the neighborhoods.  The most commonly used is Euclidean distance since it gives the closest distance between 2 points.<br>\n",
    "<br>\n",
    "Most Common Distances<br>\n",
    " - Euclidean: the shortest distance between to points that might not be the best option when features are normalized. Typically used in face recognition.<br>\n",
    " - Taxicab or Manhattan: is the sum of the absolute differences of the Cartesian coordinates of 2 points. It works the same way as when a car needs to move around 'blocks' to get to the destination.<br>\n",
    " - Minkowski: is a mix of both Euclidean and Mincowski.<br>\n",
    "\n",
    "<br>\n",
    "The amount of features impacts kNN significantly because the more points we have, the more 'unique' each neighborhood becomes. It also affects speed because we need to measure each distance first in order to determine who are the closest k neighbors.<br)\n"
   ]
  },
  {
   "cell_type": "markdown",
   "metadata": {},
   "source": [
    "### The kNN Algorithm<br>\n",
    "\n",
    "__1- Divide dataset in training/testing sets.__ Dataset has to be divided in 2, usually 80-20 or 70-30%. Each dataset has to be divided in features (x) and labels (y).<br>\n",
    "__2- Create a matrix with all the distances.__ The size of the matrix is i*j where i=rows in training set and j=rows in testing set.<br>\n",
    "__3- Sort the matrix by columns.__ By sorting each column we can determine which points (rows in the training set) are closer to the testing set points (represented in columns).<br>\n",
    "__4- Get the indices of the top k neighbors.__ Find the points in the training set that are closer to the testing set points.<br>\n",
    "__5- Get the label that repeats the most in the top k neighbors.__ Mathematically is the mode of the labels of the top k neighbors.<br>\n",
    "__6- Create a new array with the projected label of the testing set.__ The size of the array is the same size as the y of the testing set.<br>\n",
    "__7- Calculate accuracy of the projected labels.__ Evaluate the differences between the projected label of y in the testing set with the actual y of the testing set. If accuracy is low, we can change it by modifying k.<br>\n",
    "__8- Implement algorithm.__ Model is ready to be deployed. <br>"
   ]
  },
  {
   "cell_type": "markdown",
   "metadata": {},
   "source": [
    "### The following example can be used to solve 'any' type of kNN problem without knn libraries<br>\n",
    "\n",
    "I am going to be using the 'famous' Iris Flower Dataset that you can download anywhere. If you don't know this dataset you can get more information here: https://en.wikipedia.org/wiki/Iris_flower_data_set"
   ]
  },
  {
   "cell_type": "code",
   "execution_count": 1,
   "metadata": {},
   "outputs": [],
   "source": [
    "import pandas as pd\n",
    "import numpy as np"
   ]
  },
  {
   "cell_type": "code",
   "execution_count": 2,
   "metadata": {},
   "outputs": [
    {
     "name": "stdout",
     "output_type": "stream",
     "text": [
      "File successfully loaded.\n"
     ]
    }
   ],
   "source": [
    "#Load File\n",
    "#I will be using pandas only to load dataset but I will not be using it to solve algorithm.\n",
    "file = 'iris.data'\n",
    "df = pd.read_csv(file,header = None)\n",
    "print('File successfully loaded.')"
   ]
  },
  {
   "cell_type": "code",
   "execution_count": 3,
   "metadata": {},
   "outputs": [],
   "source": [
    "#1. Divide dataset in training/testing sets\n",
    "df['rand'] = np.random.rand(df.shape[0],1) #create a column with random number so I can randomly create the sets\n",
    "xTrain = df[df.rand <= 0.7]       #70% goes to the training set\n",
    "xTest = df[df.rand > 0.7]         #30% goes to the testing set to evaluate\n",
    "yTrain = np.array(xTrain[4])    #y is the last (5th) column\n",
    "yTest = np.array(xTest[4])      #y is the last (5th) column\n",
    "xTrain = np.array(xTrain[[0,1,2,3]])   #only use the first 4 columns since the label (y) is the fifth column\n",
    "xTest = np.array(xTest[[0,1,2,3]])     #only use the first 4 columns since the label (y) is the fifth column\n",
    "df=None                       #delete the dataframe I used to import the data since I created the data sets."
   ]
  },
  {
   "cell_type": "code",
   "execution_count": 4,
   "metadata": {},
   "outputs": [
    {
     "name": "stdout",
     "output_type": "stream",
     "text": [
      "Dataset Shapes:\n",
      "xTrain --> (103, 4)\n",
      "yTrain --> (103,)\n",
      "xTest --> (47, 4)\n",
      "yTest --> (47,)\n",
      "\n",
      "xTrain: Top rows\n",
      " [[5.1 3.5 1.4 0.2]\n",
      " [4.7 3.2 1.3 0.2]\n",
      " [5.4 3.9 1.7 0.4]\n",
      " [5.4 3.7 1.5 0.2]\n",
      " [4.8 3.4 1.6 0.2]]\n",
      "\n",
      "yTrain: Top rows\n",
      " ['Iris-setosa' 'Iris-setosa' 'Iris-setosa' 'Iris-setosa' 'Iris-setosa']\n"
     ]
    }
   ],
   "source": [
    "#Characteristics of the arrays\n",
    "print('Dataset Shapes:')\n",
    "print('xTrain -->', xTrain.shape)\n",
    "print('yTrain -->', yTrain.shape)\n",
    "print('xTest -->', xTest.shape)\n",
    "print('yTest -->', yTest.shape)\n",
    "print('\\nxTrain: Top rows\\n',xTrain[0:5,:])\n",
    "print('\\nyTrain: Top rows\\n',yTrain[0:5])"
   ]
  },
  {
   "cell_type": "markdown",
   "metadata": {},
   "source": [
    "#### Distances\n",
    "Euclidean distance is calculated same way as when calculating the hypotenuse in a triangle. Euclidean distance follows the Pythagorean theorem. We have coordinateS p=(p1,p2) and q=(q1,q2), so the Euclidean distance is the square root of the difference of each point elevated to the square:<br>\n",
    "\n",
    "__In its general form:__<br>\n",
    "ED = SQRT((qi-pi)^2)<br>\n",
    "<br>\n",
    "__In its matrix form:__<br>\n",
    "ED = SQRT((qi-pi) . transpose(qi-pi))<br>\n",
    "\n",
    "The dot product of (qi-pi) and (qi-pi) transposed is the matrix equivalent of a function elevated to the square.<br>\n",
    "\n",
    "__With all terms:__<br>\n",
    "pi.T(pi) + qi.T(qi) - 2(qi.T(pi) <br>\n",
    "\n",
    "Summary: we will be create 1 matrix for the first term, another matrix for the 2nd term and a 3rd matrix with the final term and then add the first 2 and substract 2 times the 3rd matrix."
   ]
  },
  {
   "cell_type": "code",
   "execution_count": 5,
   "metadata": {},
   "outputs": [],
   "source": [
    "#2- Create a matrix with all the distances.\n",
    "#3- Sort the matrix by columns.\n",
    "#4- Get the indices of the top k neighbors.\n",
    "\n",
    "def knn(xTrain,xTest,k):\n",
    "    \"\"\"\n",
    "    Finds the k nearest neighbors of xTest in xTrain.\n",
    "    Input:\n",
    "    xTrain = n x d matrix. n=rows and d=features\n",
    "    xTest = m x d matrix. m=rows and d=features (same amount of features as xTrain)\n",
    "    k = number of nearest neighbors to be found\n",
    "    Output:\n",
    "    dists = distances between all xTrain and all XTest points. Size of n x m\n",
    "    indices = k x m matrix with the indices of the yTrain labels that represent the point\n",
    "    @: is the equivalent of the dot product\n",
    "    \"\"\"\n",
    "    #the following formula calculates the Euclidean distances.\n",
    "    distances = -2 * xTrain@xTest.T + np.sum(xTest**2,axis=1) + np.sum(xTrain**2,axis=1)[:, np.newaxis] \n",
    "    #because of numpy precision, some really small numbers might become negatives.\n",
    "    #so, we need to replace all negative numbers with zero.\n",
    "    distances[distances < 0] = 0\n",
    "    distances = distances**.5\n",
    "    indices = np.argsort(distances, 0) #get indices of sorted items\n",
    "    distances = np.sort(distances,0) #distances sorted in axis 0\n",
    "    #returning the top-k closest distances.\n",
    "    return indices[0:k, : ], distances[0:k, : ]"
   ]
  },
  {
   "cell_type": "code",
   "execution_count": 6,
   "metadata": {},
   "outputs": [
    {
     "name": "stdout",
     "output_type": "stream",
     "text": [
      "Top k Distances for Test Data Point 1:\n",
      " [[0.14142136]\n",
      " [0.14142136]\n",
      " [0.17320508]]\n",
      "\n",
      "Indices of the Top k Distances\n",
      " [[ 5]\n",
      " [31]\n",
      " [24]]\n",
      "\n",
      "Labels of Top k Distances\n",
      "['Iris-setosa']\n",
      "['Iris-setosa']\n",
      "['Iris-setosa']\n"
     ]
    }
   ],
   "source": [
    "k=3  #using k=3 as an example\n",
    "indices, distances = knn(xTrain,xTest,k)\n",
    "print('Top k Distances for Test Data Point 1:\\n',distances[:,:1])\n",
    "print('\\nIndices of the Top k Distances\\n',indices[:,:1])\n",
    "print('\\nLabels of Top k Distances')\n",
    "for i in indices[:,:1]:\n",
    "    print(yTrain[i])"
   ]
  },
  {
   "cell_type": "markdown",
   "metadata": {},
   "source": [
    "The following function does:\n",
    " - fills up the indices matrix with their respective yTrain labels\n",
    " - calculates the mode\n",
    " - creates a final array with the predicted labels"
   ]
  },
  {
   "cell_type": "code",
   "execution_count": 7,
   "metadata": {},
   "outputs": [],
   "source": [
    "def knn_predictions(xTrain,yTrain,xTest,k):\n",
    "    \"\"\"\n",
    "    Input:\n",
    "    xTrain = n x d matrix. n=rows and d=features\n",
    "    yTrain = n x 1 array. n=rows with label value\n",
    "    xTest = m x d matrix. m=rows and d=features (same amount of features as xTrain)\n",
    "    k = number of nearest neighbors to be found\n",
    "    Output:\n",
    "    predictions = predicted labels, ie preds(i) is the predicted label of xTest(i,:)\n",
    "    \"\"\"\n",
    "    yTrain = yTrain.flatten()\n",
    "    rows, columns=indices.shape\n",
    "    predictions=list()\n",
    "    for j in range(columns):\n",
    "        temp=list()\n",
    "        for i in range(rows):\n",
    "            cell=indices[i][j]\n",
    "            temp.append(yTrain[cell])\n",
    "        predictions.append(max(temp,key=temp.count)) #this is the key function, brings the mode value\n",
    "    predictions=np.array(predictions)\n",
    "    return predictions"
   ]
  },
  {
   "cell_type": "code",
   "execution_count": 8,
   "metadata": {},
   "outputs": [
    {
     "name": "stdout",
     "output_type": "stream",
     "text": [
      "Size of Predictions Array:\n",
      " (47,)\n",
      "\n",
      "Predictions Array:\n",
      " ['Iris-setosa' 'Iris-setosa' 'Iris-setosa' 'Iris-setosa' 'Iris-setosa'\n",
      " 'Iris-setosa' 'Iris-setosa' 'Iris-setosa' 'Iris-setosa' 'Iris-setosa'\n",
      " 'Iris-setosa' 'Iris-setosa' 'Iris-setosa' 'Iris-setosa' 'Iris-setosa'\n",
      " 'Iris-versicolor' 'Iris-versicolor' 'Iris-versicolor' 'Iris-versicolor'\n",
      " 'Iris-versicolor' 'Iris-versicolor' 'Iris-versicolor' 'Iris-virginica'\n",
      " 'Iris-versicolor' 'Iris-versicolor' 'Iris-versicolor' 'Iris-versicolor'\n",
      " 'Iris-versicolor' 'Iris-versicolor' 'Iris-versicolor' 'Iris-versicolor'\n",
      " 'Iris-versicolor' 'Iris-virginica' 'Iris-virginica' 'Iris-virginica'\n",
      " 'Iris-virginica' 'Iris-versicolor' 'Iris-virginica' 'Iris-virginica'\n",
      " 'Iris-virginica' 'Iris-virginica' 'Iris-virginica' 'Iris-versicolor'\n",
      " 'Iris-virginica' 'Iris-virginica' 'Iris-virginica' 'Iris-virginica']\n"
     ]
    }
   ],
   "source": [
    "predictions=knn_predictions(xTrain,yTrain,xTest,k)\n",
    "print('Size of Predictions Array:\\n',predictions.shape)\n",
    "print('\\nPredictions Array:\\n',knn_predictions(xTrain,yTrain,xTest,k))"
   ]
  },
  {
   "cell_type": "markdown",
   "metadata": {},
   "source": [
    "Now that we have the predicted array, we need to calculate its accuracy:"
   ]
  },
  {
   "cell_type": "code",
   "execution_count": 9,
   "metadata": {},
   "outputs": [
    {
     "name": "stdout",
     "output_type": "stream",
     "text": [
      "Accuracy: 93.62 %\n"
     ]
    }
   ],
   "source": [
    "def accuracy(yTest,predictions):\n",
    "    \"\"\"\n",
    "    Input:\n",
    "    yTest = array of shape (n,) where n = rows in test set\n",
    "    preds = array of shape (n,) where n = rows in test set\n",
    "    Output:\n",
    "    accuracy = % of correct answers in the prediction\n",
    "    \"\"\"\n",
    "    x=yTest.flatten()==predictions.flatten()\n",
    "    grade=np.mean(x)\n",
    "    return np.round(grade*100,2)\n",
    "\n",
    "print('Accuracy:',accuracy(knn_predictions(xTrain,yTrain,xTest,k),yTest),'%')"
   ]
  },
  {
   "cell_type": "markdown",
   "metadata": {},
   "source": [
    "### Validating Solution and the Best k-Value"
   ]
  },
  {
   "cell_type": "code",
   "execution_count": 10,
   "metadata": {},
   "outputs": [],
   "source": [
    "from sklearn.neighbors import KNeighborsClassifier\n",
    "from sklearn.metrics import accuracy_score\n",
    "from sklearn import metrics\n",
    "import matplotlib.pyplot as plt "
   ]
  },
  {
   "cell_type": "code",
   "execution_count": 11,
   "metadata": {},
   "outputs": [
    {
     "name": "stdout",
     "output_type": "stream",
     "text": [
      "The best accuracy was: 97.87 % with k= 9\n"
     ]
    }
   ],
   "source": [
    "#will first check which is the best k\n",
    "Ks = 15\n",
    "mean_acc = np.zeros((Ks-1))\n",
    "std_acc = np.zeros((Ks-1))\n",
    "#ConfustionMx = [];\n",
    "for n in range(1,Ks):    \n",
    "    #Train Model and Predict\n",
    "    neigh = KNeighborsClassifier(n_neighbors = n).fit(xTrain,yTrain)\n",
    "    yhat=neigh.predict(xTest)\n",
    "    mean_acc[n-1] = metrics.accuracy_score(yTest, yhat)    \n",
    "    std_acc[n-1]=np.std(yhat==yTest)/np.sqrt(yhat.shape[0])\n",
    "\n",
    "print( \"The best accuracy was:\", np.round(mean_acc.max()*100,2), \"% with k=\", mean_acc.argmax()+1) "
   ]
  },
  {
   "cell_type": "code",
   "execution_count": 12,
   "metadata": {},
   "outputs": [
    {
     "data": {
      "image/png": "[encoded data removed]",
      "text/plain": [
       "<Figure size 432x288 with 1 Axes>"
      ]
     },
     "metadata": {
      "needs_background": "light"
     },
     "output_type": "display_data"
    }
   ],
   "source": [
    "plt.plot(range(1,Ks),mean_acc,'g')\n",
    "plt.fill_between(range(1,Ks),mean_acc - 1 * std_acc,mean_acc + 1 * std_acc, alpha=0.05)\n",
    "plt.legend(('Accuracy ', '+/- 3xstd'))\n",
    "plt.ylabel('Accuracy ')\n",
    "plt.xlabel('Number of Neighbors (k)')\n",
    "plt.tight_layout()\n",
    "plt.show()"
   ]
  },
  {
   "cell_type": "markdown",
   "metadata": {},
   "source": [
    "### Summary and Conclusions\n",
    " - knn works really well when a few features can really differentiate each neighborhood. Too many features, specially the ones that add noise, make kNN to have poor results and will slow down the calculations. \n",
    " - You can use this math model to generate and evaluate any knn model.\n",
    " - Works great when you have large amount of classes and a few samples per class."
   ]
  }
 ],
 "metadata": {
  "kernelspec": {
   "display_name": "Python 3",
   "language": "python",
   "name": "python3"
  },
  "language_info": {
   "codemirror_mode": {
    "name": "ipython",
    "version": 3
   },
   "file_extension": ".py",
   "mimetype": "text/x-python",
   "name": "python",
   "nbconvert_exporter": "python",
   "pygments_lexer": "ipython3",
   "version": "3.7.3"
  }
 },
 "nbformat": 4,
 "nbformat_minor": 2
}
